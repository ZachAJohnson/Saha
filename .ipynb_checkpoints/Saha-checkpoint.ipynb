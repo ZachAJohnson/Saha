{
 "cells": [
  {
   "cell_type": "markdown",
   "id": "25e99b0a-4883-4c39-8af0-dce48f97ffee",
   "metadata": {},
   "source": [
    "# Saha code"
   ]
  },
  {
   "cell_type": "code",
   "execution_count": null,
   "id": "c533d90f-3488-48c3-81e8-988196632f51",
   "metadata": {},
   "outputs": [],
   "source": []
  }
 ],
 "metadata": {
  "kernelspec": {
   "display_name": "Python 3 (ipykernel)",
   "language": "python",
   "name": "python3"
  },
  "language_info": {
   "codemirror_mode": {
    "name": "ipython",
    "version": 3
   },
   "file_extension": ".py",
   "mimetype": "text/x-python",
   "name": "python",
   "nbconvert_exporter": "python",
   "pygments_lexer": "ipython3",
   "version": "3.10.6"
  }
 },
 "nbformat": 4,
 "nbformat_minor": 5
}
