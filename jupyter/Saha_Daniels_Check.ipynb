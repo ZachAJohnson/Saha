{
 "cells": [
  {
   "cell_type": "markdown",
   "id": "6aec3e62-fed1-4962-808c-8fb41767709a",
   "metadata": {},
   "source": [
    "### Saha for N Ionization\n",
    "\n",
    "The ionization energies are obtained from [NIST](https://physics.nist.gov/cgi-bin/ASD/ie.pl?spectra=Xe&units=1&at_num_out=on&el_name_out=on&seq_out=on&shells_out=on&level_out=on&e_out=0&unc_out=on&biblio=on)\n",
    "\n",
    "The statistical weights are approximately derived also with NIST, using g_i = 2 J_i + 1 of the ground level of that state\n"
   ]
  },
  {
   "cell_type": "code",
   "execution_count": 1,
   "id": "890d43b0-6772-45c5-9925-0e775ec44197",
   "metadata": {
    "tags": []
   },
   "outputs": [],
   "source": [
    "import numpy as np\n",
    "from hnc.hnc.constants import *\n",
    "\n",
    "from saha.core.saha import plasma, calculate_ionization_fractions\n",
    "\n",
    "from saha.core.table_generator import saha_table\n",
    "\n",
    "import matplotlib.pyplot as plt\n",
    "\n",
    "plt.rcParams.update({'font.size': 14})\n",
    "plt.rcParams[\"figure.figsize\"] = (6,4)\n",
    "plt.rcParams[\"figure.dpi\"] = 200\n",
    "plt.rcParams['xtick.labelsize']=14\n",
    "\n",
    "color_smooth = lambda N: plt.cm.viridis(np.linspace(0,1,N))\n",
    "color_cycle = plt.rcParams['axes.prop_cycle'].by_key()['color']\n"
   ]
  },
  {
   "cell_type": "code",
   "execution_count": 37,
   "id": "a9cb2c4f-6710-43d4-be07-282f57b2d21d",
   "metadata": {
    "tags": []
   },
   "outputs": [
    {
     "name": "stdout",
     "output_type": "stream",
     "text": [
      "Using degeneracies of:  [1. 4. 5. 4. 1. 2. 1.]\n"
     ]
    }
   ],
   "source": [
    "Ar_ionization_energies_AU = np.array([0, 15.7596119, 27.62967, 40.735, 59.58, 74.84, 91.290])*eV_to_AU\n",
    "Ar_J_ground_level = np.array([0, 3/2, 2, 3/2, 0, 1/2, 0])\n",
    "Ar_ionization_degeneracies = 2*Ar_J_ground_level + 1\n",
    "# Ar_ionization_degeneracies = np.array([1, 5.83, 10.9])\n",
    "print(\"Using degeneracies of: \", Ar_ionization_degeneracies )\n",
    "\n",
    "\n",
    "# Input: Number of ionizations\n",
    "Z = 18\n",
    "\n",
    "nn_invcc_at_Pbar_TK = lambda Pbar, TK: Pbar*bar_to_AU/(TK*K_to_AU)*AU_to_invcc\n",
    "Ar_nn_invcc = nn_invcc_at_Pbar_TK(25, 290)\n",
    "Ar_TK_peak = 1.5*eV_to_K#17.761029411764707e3 # 0.008097165991902834 ns?\n",
    "\n",
    "nn_invcc = Ar_nn_invcc\n",
    "nn_AU = nn_invcc  * invcc_to_AU\n",
    "T_AU  = Ar_TK_peak*K_to_AU\n",
    "\n",
    "Ar_plasma = plasma(\"Ar25bar_weak-coupling_Δχ\", Z, Ar_ionization_energies_AU, Ar_ionization_degeneracies)"
   ]
  },
  {
   "cell_type": "code",
   "execution_count": 38,
   "id": "ff47d789-91cb-4ffe-af72-68386398fdac",
   "metadata": {
    "tags": []
   },
   "outputs": [],
   "source": [
    "Zbar, xi_array, χ_array  = calculate_ionization_fractions(Ar_plasma, nn_AU, T_AU, IPD=True, N_ions=2)"
   ]
  },
  {
   "cell_type": "code",
   "execution_count": 39,
   "id": "7eb447d6-7652-4fbe-875e-59ebe2df6840",
   "metadata": {
    "tags": []
   },
   "outputs": [
    {
     "name": "stdout",
     "output_type": "stream",
     "text": [
      "<Z> = 0.055216204534848594\n",
      "xi = [9.44784345e-01 5.52151049e-02 5.49792579e-07]\n",
      "χ = [0.         0.55121857 0.96543869]\n"
     ]
    }
   ],
   "source": [
    "print(f\"<Z> = {Zbar}\")\n",
    "print(f\"xi = {xi_array}\")\n",
    "print(f\"χ = {χ_array}\")"
   ]
  },
  {
   "cell_type": "markdown",
   "id": "c2ddb21e-5629-46d4-b224-55efead86dd9",
   "metadata": {},
   "source": [
    "### Daniels Check"
   ]
  },
  {
   "cell_type": "code",
   "execution_count": 27,
   "id": "12a68902-7c16-4f4a-b0b2-f5649585f86c",
   "metadata": {
    "tags": []
   },
   "outputs": [
    {
     "data": {
      "text/plain": [
       "(5.6496396998645206e-08, 17.762689329748497, 262.0807160709689)"
      ]
     },
     "execution_count": 27,
     "metadata": {},
     "output_type": "execute_result"
    }
   ],
   "source": [
    "def λD(T):\n",
    "    return np.sqrt(2*π/(m_e*T))\n",
    "\n",
    "λD(T_AU)*AU_to_cm, 2*λD(T_AU)**-3/nn_AU, 2*λD(T_AU)**-3/nn_AU/Zbar"
   ]
  },
  {
   "cell_type": "code",
   "execution_count": 6,
   "id": "f8124e6c-b0c3-4660-a6e5-8d69d7abbd11",
   "metadata": {
    "tags": []
   },
   "outputs": [
    {
     "data": {
      "text/plain": [
       "471.97662788458956"
      ]
     },
     "execution_count": 6,
     "metadata": {},
     "output_type": "execute_result"
    }
   ],
   "source": [
    "2*λD(T_AU)**-3/nn_AU/Zbar * Ar_ionization_degeneracies[2]/Ar_ionization_degeneracies[1]"
   ]
  },
  {
   "cell_type": "code",
   "execution_count": 7,
   "id": "98756e5f-05ca-4a8b-a05c-26aad16d8647",
   "metadata": {
    "tags": []
   },
   "outputs": [],
   "source": [
    "def saha_equation(ne, T, Δε, degeneracy_ratio):\n",
    "    # Saha equation in atomic units\n",
    "    saha_ratio = degeneracy_ratio * 2*λD(T)**-3 * np.exp(- Δε / T) / ne\n",
    "    return saha_ratio, \n"
   ]
  },
  {
   "cell_type": "code",
   "execution_count": 8,
   "id": "0a4ac056-a543-4deb-8c99-ff72d38115a6",
   "metadata": {
    "tags": []
   },
   "outputs": [
    {
     "data": {
      "text/plain": [
       "((0.009802897732147984,), 0.03758426100000001, 0.08480329039860594)"
      ]
     },
     "execution_count": 8,
     "metadata": {},
     "output_type": "execute_result"
    }
   ],
   "source": [
    "saha_equation(nn_AU, T_AU, Ar_ionization_energies_AU[2]-Ar_ionization_energies_AU[1] , Ar_ionization_degeneracies[2]/Ar_ionization_degeneracies[1]), 17.1 * 5.83/1 * 3.77e-4/1, 17.1 * 10.9/5.83 * 1e-6/3.77e-4"
   ]
  },
  {
   "cell_type": "code",
   "execution_count": 9,
   "id": "315c3c2f-f36b-46f8-b474-773e4444c73e",
   "metadata": {
    "tags": []
   },
   "outputs": [
    {
     "data": {
      "text/plain": [
       "3.181149136363637e-05"
      ]
     },
     "execution_count": 9,
     "metadata": {},
     "output_type": "execute_result"
    }
   ],
   "source": [
    "xi_D = np.array([0.176, 3.18e-5])\n",
    "(xi_D[0] + 2*xi_D[1])*xi_D[1]/xi_D[0]\n"
   ]
  },
  {
   "cell_type": "code",
   "execution_count": null,
   "id": "636093f4-8c6a-4b27-b0f1-8797b1d6d0e9",
   "metadata": {},
   "outputs": [],
   "source": []
  }
 ],
 "metadata": {
  "kernelspec": {
   "display_name": "Python 3 (ipykernel)",
   "language": "python",
   "name": "python3"
  },
  "language_info": {
   "codemirror_mode": {
    "name": "ipython",
    "version": 3
   },
   "file_extension": ".py",
   "mimetype": "text/x-python",
   "name": "python",
   "nbconvert_exporter": "python",
   "pygments_lexer": "ipython3",
   "version": "3.10.6"
  }
 },
 "nbformat": 4,
 "nbformat_minor": 5
}
