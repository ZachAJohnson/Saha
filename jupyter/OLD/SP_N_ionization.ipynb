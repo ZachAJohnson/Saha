{
 "cells": [
  {
   "cell_type": "markdown",
   "id": "6aec3e62-fed1-4962-808c-8fb41767709a",
   "metadata": {},
   "source": [
    "### Saha for N Ionization\n",
    "\n",
    "The ionization energies are obtained from [NIST](https://physics.nist.gov/cgi-bin/ASD/ie.pl?spectra=Xe&units=1&at_num_out=on&el_name_out=on&seq_out=on&shells_out=on&level_out=on&e_out=0&unc_out=on&biblio=on)\n",
    "\n",
    "The statistical weights are approximately derived also with NIST, using g_i = 2 J_i + 1 of the ground level of that state\n"
   ]
  },
  {
   "cell_type": "code",
   "execution_count": 1,
   "id": "890d43b0-6772-45c5-9925-0e775ec44197",
   "metadata": {
    "tags": []
   },
   "outputs": [
    {
     "name": "stdout",
     "output_type": "stream",
     "text": [
      "ModuleNotFoundError: No module named 'mendeleev'\n"
     ]
    }
   ],
   "source": [
    "from hnc.hnc.constants import *\n",
    "from hnc.hnc.misc import More_TF_Zbar\n",
    "\n",
    "import numpy as np\n",
    "from scipy.optimize import minimize\n",
    "\n",
    "import matplotlib.pyplot as plt\n",
    "from pandas import read_csv\n",
    "\n",
    "from scipy.interpolate import interp1d\n",
    "\n",
    "plt.rcParams.update({'font.size': 14})\n",
    "plt.rcParams[\"figure.figsize\"] = (6,4)\n",
    "plt.rcParams[\"figure.dpi\"] = 200\n",
    "plt.rcParams['xtick.labelsize']=14\n",
    "\n",
    "color_smooth = lambda N: plt.cm.viridis(np.linspace(0,1,N))\n",
    "color_cycle = plt.rcParams['axes.prop_cycle'].by_key()['color']\n"
   ]
  },
  {
   "cell_type": "code",
   "execution_count": 5,
   "id": "d2418c92-5c39-4549-af4e-6ab4b3a770c0",
   "metadata": {
    "scrolled": true,
    "tags": []
   },
   "outputs": [],
   "source": [
    "def λD(T):\n",
    "    return np.sqrt(2*π/(m_e*T))\n",
    "\n",
    "def saha_equation(ne, T, Δε, degeneracy_ratio):\n",
    "    # Saha equation in atomic units\n",
    "    saha_ratio = degeneracy_ratio * 2*λD(T)**-3 * np.exp(- Δε / T) / ne\n",
    "    test = saha_ratio\n",
    "    return test#saha_ratio\n",
    "\n",
    "def ΔU_SP(ionization_fractions, nn, Ti ): # Stwart-Pyat as written by Crowley assuming α=1, so Λ=Λ_tilde in https://arxiv.org/pdf/1309.1456\n",
    "    Zj = np.arange(len(ionization_fractions))\n",
    "    Zp = get_Zp(ionization_fractions)\n",
    "    ne = get_ne(nn, ionization_fractions)\n",
    "    rj = get_rj(Zj, ne)\n",
    "    Γj_array = get_Γj(Zj, Zp, rj, Ti)\n",
    "    Λ_array = get_Λ(Γj_array)\n",
    "    # return np.nan_to_num( - Ti/(2*Zp)*( (1 + Λ_array)**(2/3) - 1 ), nan=0)\n",
    "    return np.nan_to_num( - Ti/(2*Zp)*(2/3*Λ_array), nan=0)\n",
    "\n",
    "def get_Λ(Γj): # NOT Λ_tilde\n",
    "    Λ = (3*Γj)**(3/2)\n",
    "    return Λ\n",
    "    \n",
    "def get_Zp(ionization_fractions):\n",
    "    Zj = np.arange(len(ionization_fractions))\n",
    "    return np.sum(ionization_fractions*Zj**2)/np.sum(ionization_fractions*Zj)\n",
    "\n",
    "def get_rj(Zj, ne): #ion sphere radius\n",
    "    return ( 3*Zj/(4*π*ne) )**(1/3)\n",
    "\n",
    "def get_Γj(Zj, Zp, rj, Ti): # weird strong coupling parameter\n",
    "    Γj = Zj*Zp/(rj*Ti)\n",
    "    return Γj\n",
    "\n",
    "def get_ne(nn, ionization_fractions):\n",
    "    return nn*get_Zbar(ionization_fractions)\n",
    "\n",
    "def get_Zbar(ionization_fractions):\n",
    "    Zj = np.arange(len(ionization_fractions))\n",
    "    return np.sum(ionization_fractions * Zj)\n",
    "\n",
    "def get_ionization_fractions(ionization_fractions, nn, T, N, IPD = True):\n",
    "    unnormalized_fractions = [1]\n",
    "    ne = get_ne(nn, ionization_fractions)\n",
    "    for i in range(N):\n",
    "        degeneracy_ratio = degeneracies[i + 1] / degeneracies[i]\n",
    "        if IPD==True:\n",
    "            ipd_energies = ΔU_SP(ionization_fractions, nn, T )\n",
    "        else:\n",
    "            ipd_energies = np.zeros_like(ionization_fractions)\n",
    "        new_ionization_energies = ionizationenergies_AU[:N+1] + ipd_energies\n",
    "        ionizationenergy_difference = new_ionization_energies[i+1] - new_ionization_energies[i]\n",
    "        ionization_ratio = saha_equation(ne, T, ionizationenergy_difference, degeneracy_ratio) # n_{i+1}/n_{i}\n",
    "        unnormalized_fractions.append(ionization_ratio*unnormalized_fractions[-1])\n",
    "    new_ionization_fractions = unnormalized_fractions/np.sum(unnormalized_fractions)\n",
    "    return new_ionization_fractions, new_ionization_energies\n",
    "    \n",
    "def calculate_ionization_fractions(N_ions, nn, T, initial_guess = None, IPD = True):\n",
    "    # Initial guess for ionization fractions (all neutral initially)\n",
    "    N_atoms = N_ions + 1\n",
    "    \n",
    "    if initial_guess is None:\n",
    "        More_Zbar = More_TF_Zbar(Z, nn_invcc*invcc_to_AU, T_K*K_to_AU)\n",
    "        fake_ionization_fraction = np.zeros(N_atoms)\n",
    "        fake_ionization_fraction[1] = More_Zbar\n",
    "        initial_guess = get_ionization_fractions(fake_ionization_fraction, nn*More_Zbar, T, N_ions, IPD=False)[0].copy()\n",
    "    \n",
    "    fractions = np.array(initial_guess).copy()\n",
    "    # Minimize the residuals to find the self-consistent ionization fractions\n",
    "    \n",
    "    α = 0.1\n",
    "    iters = 0\n",
    "    while iters < 1000:\n",
    "        Zbar_old = get_Zbar(fractions)\n",
    "        new_fractions, χs = get_ionization_fractions(fractions, nn, T, N_ions, IPD=IPD)\n",
    "        fractions = α*new_fractions + (1-α)*fractions\n",
    "        Zbar = get_Zbar(fractions)\n",
    "        err = Zbar/Zbar_old-1\n",
    "        # print(f\"Zbar Old: {Zbar_old:0.3f}, New: {Zbar:0.3f}, rel change: {err:0.3e}\")\n",
    "        iters +=1\n",
    "        # print(\"\\tMinimizer success = \", result)\n",
    "        # for i, fraction in enumerate(fractions):\n",
    "        #     print(f\"Ionization state {i}: {fraction:.2e}\")\n",
    "            \n",
    "    # Calculate the average ionization\n",
    "    average_ionization = get_Zbar(fractions)\n",
    "    return average_ionization, fractions, χs\n",
    "\n"
   ]
  },
  {
   "cell_type": "code",
   "execution_count": 6,
   "id": "e1804ea9-e371-4eff-ab34-e13f86bfd903",
   "metadata": {},
   "outputs": [],
   "source": [
    "# def make_and_save_nT_mesh(n0_invcc_range, T_K_range, ):\n",
    "    "
   ]
  },
  {
   "cell_type": "code",
   "execution_count": 7,
   "id": "61278816-257d-4feb-aad2-ac9027907b70",
   "metadata": {
    "scrolled": true,
    "tags": []
   },
   "outputs": [
    {
     "ename": "NameError",
     "evalue": "name 'n0_invcc' is not defined",
     "output_type": "error",
     "traceback": [
      "\u001b[0;31m---------------------------------------------------------------------------\u001b[0m",
      "\u001b[0;31mNameError\u001b[0m                                 Traceback (most recent call last)",
      "Cell \u001b[0;32mIn[7], line 2\u001b[0m\n\u001b[1;32m      1\u001b[0m \u001b[38;5;66;03m# Ion density\u001b[39;00m\n\u001b[0;32m----> 2\u001b[0m n0_invcc_array \u001b[38;5;241m=\u001b[39m \u001b[43mn0_invcc\u001b[49m\u001b[38;5;241m*\u001b[39mnp\u001b[38;5;241m.\u001b[39mgeomspace(\u001b[38;5;241m0.5\u001b[39m,\u001b[38;5;241m1.5\u001b[39m,num\u001b[38;5;241m=\u001b[39m\u001b[38;5;241m10\u001b[39m) \n\u001b[1;32m      4\u001b[0m \u001b[38;5;66;03m# Temperature\u001b[39;00m\n\u001b[1;32m      5\u001b[0m T_K_array \u001b[38;5;241m=\u001b[39m np\u001b[38;5;241m.\u001b[39mgeomspace(\u001b[38;5;241m5e2\u001b[39m, \u001b[38;5;241m7e4\u001b[39m, num\u001b[38;5;241m=\u001b[39m\u001b[38;5;241m100\u001b[39m)\n",
      "\u001b[0;31mNameError\u001b[0m: name 'n0_invcc' is not defined"
     ]
    }
   ],
   "source": [
    "# Ion density\n",
    "n0_invcc_array = n0_invcc*np.geomspace(0.5,1.5,num=10) \n",
    "\n",
    "# Temperature\n",
    "T_K_array = np.geomspace(5e2, 7e4, num=100)\n",
    "\n",
    "n_invcc_mesh, T_K_mesh = np.meshgrid(n0_invcc_array, T_K_array, indexing='ij')\n",
    "\n",
    "Zbar_0_list = np.linspace(5e-6,1-1e-6, num=8)\n",
    "Saha_array = np.array([ solve_Saha(T_K_mesh*K_to_AU, n_invcc_mesh*invcc_to_AU, Zbar_0=Zbar_0) for Zbar_0 in Zbar_0_list] )\n"
   ]
  },
  {
   "cell_type": "code",
   "execution_count": 8,
   "id": "c7aaa42e-7060-4191-a1aa-39b8423f866e",
   "metadata": {
    "tags": []
   },
   "outputs": [
    {
     "ename": "NameError",
     "evalue": "name 'Saha_array' is not defined",
     "output_type": "error",
     "traceback": [
      "\u001b[0;31m---------------------------------------------------------------------------\u001b[0m",
      "\u001b[0;31mNameError\u001b[0m                                 Traceback (most recent call last)",
      "Cell \u001b[0;32mIn[8], line 3\u001b[0m\n\u001b[1;32m      1\u001b[0m \u001b[38;5;66;03m# Fix nan, None issues...\u001b[39;00m\n\u001b[0;32m----> 3\u001b[0m Zbar_list \u001b[38;5;241m=\u001b[39m \u001b[43mSaha_array\u001b[49m[:,\u001b[38;5;241m0\u001b[39m]\u001b[38;5;66;03m#np.array([Saha[0] for Saha in Saha_list])\u001b[39;00m\n\u001b[1;32m      4\u001b[0m χ0_list   \u001b[38;5;241m=\u001b[39m Saha_array[:,\u001b[38;5;241m1\u001b[39m]\u001b[38;5;66;03m#np.array([Saha[1] for Saha in Saha_list])\u001b[39;00m\n\u001b[1;32m      6\u001b[0m Zbar_mean \u001b[38;5;241m=\u001b[39m np\u001b[38;5;241m.\u001b[39mnanmean(Zbar_list,axis\u001b[38;5;241m=\u001b[39m\u001b[38;5;241m0\u001b[39m)\n",
      "\u001b[0;31mNameError\u001b[0m: name 'Saha_array' is not defined"
     ]
    }
   ],
   "source": [
    "# Fix nan, None issues...\n",
    "\n",
    "Zbar_list = Saha_array[:,0]#np.array([Saha[0] for Saha in Saha_list])\n",
    "χ0_list   = Saha_array[:,1]#np.array([Saha[1] for Saha in Saha_list])\n",
    "\n",
    "Zbar_mean = np.nanmean(Zbar_list,axis=0)\n",
    "χ0_mean = np.nanmean(χ0_list,axis=0)\n"
   ]
  },
  {
   "cell_type": "code",
   "execution_count": 9,
   "id": "f13a29b9-ad19-489d-924d-1dccd9ddff83",
   "metadata": {
    "tags": []
   },
   "outputs": [
    {
     "ename": "NameError",
     "evalue": "name 'n_invcc_mesh' is not defined",
     "output_type": "error",
     "traceback": [
      "\u001b[0;31m---------------------------------------------------------------------------\u001b[0m",
      "\u001b[0;31mNameError\u001b[0m                                 Traceback (most recent call last)",
      "Cell \u001b[0;32mIn[9], line 1\u001b[0m\n\u001b[0;32m----> 1\u001b[0m mesh_save_data \u001b[38;5;241m=\u001b[39m np\u001b[38;5;241m.\u001b[39marray( [ \u001b[43mn_invcc_mesh\u001b[49m\u001b[38;5;241m.\u001b[39mflatten(), T_K_mesh\u001b[38;5;241m.\u001b[39mflatten(), Zbar_mean\u001b[38;5;241m.\u001b[39mflatten(), χ0_mean\u001b[38;5;241m.\u001b[39mflatten()\u001b[38;5;241m*\u001b[39mAU_to_eV ])\u001b[38;5;241m.\u001b[39mT\n\u001b[1;32m      2\u001b[0m header \u001b[38;5;241m=\u001b[39m (\u001b[38;5;124m\"\u001b[39m\u001b[38;5;124m# Shown is also the standard deviation from a large set of initial guesses, if large then invalid- multiple solutions \u001b[39m\u001b[38;5;130;01m\\n\u001b[39;00m\u001b[38;5;124m\"\u001b[39m \u001b[38;5;241m+\u001b[39m \n\u001b[1;32m      3\u001b[0m             \u001b[38;5;124m\"\u001b[39m\u001b[38;5;124m   n[1/cc]      T[K]         Zbar         χ0[eV]\u001b[39m\u001b[38;5;124m\"\u001b[39m)\n\u001b[1;32m      4\u001b[0m savename \u001b[38;5;241m=\u001b[39m \u001b[38;5;124mf\u001b[39m\u001b[38;5;124m\"\u001b[39m\u001b[38;5;132;01m{\u001b[39;00melement\u001b[38;5;132;01m}\u001b[39;00m\u001b[38;5;124m_Saha.txt\u001b[39m\u001b[38;5;124m\"\u001b[39m\n",
      "\u001b[0;31mNameError\u001b[0m: name 'n_invcc_mesh' is not defined"
     ]
    }
   ],
   "source": [
    "mesh_save_data = np.array( [ n_invcc_mesh.flatten(), T_K_mesh.flatten(), Zbar_mean.flatten(), χ0_mean.flatten()*AU_to_eV ]).T\n",
    "header = (\"# Shown is also the standard deviation from a large set of initial guesses, if large then invalid- multiple solutions \\n\" + \n",
    "            \"   n[1/cc]      T[K]         Zbar         χ0[eV]\")\n",
    "savename = f\"{element}_Saha.txt\"\n",
    "np.savetxt(savename, mesh_save_data, header = header , fmt =\"%12.3e\", comments='')"
   ]
  },
  {
   "cell_type": "code",
   "execution_count": null,
   "id": "b804e33f-db6d-4f5c-bd5a-b4016a9a10dd",
   "metadata": {
    "tags": []
   },
   "outputs": [],
   "source": [
    "nn_invcc_at_Pbar_TK = lambda Pbar, TK: Pbar*bar_to_AU/(TK*K_to_AU)*AU_to_invcc\n",
    "\n",
    "Xe_nn_invcc = nn_invcc_at_Pbar_TK(5, 290)\n",
    "He_nn_invcc = nn_invcc_at_Pbar_TK(74, 290)\n",
    "Ar_nn_invcc = nn_invcc_at_Pbar_TK(25, 290)\n",
    "\n",
    "print(f\"Xe ne = {Xe_nn_invcc:0.3e} [1/cc] \")\n",
    "print(f\"He ne = {He_nn_invcc:0.3e} [1/cc] \") \n",
    "print(f\"Ar ne = {Ar_nn_invcc:0.3e} [1/cc] \")\n",
    "\n",
    "Xe_TK_peak = 16.60952380952381e3 # 0 ns?\n",
    "He_TK_peak = 14.790528233151186e3 # 0.0031746031746031746 ns\n",
    "Ar_TK_peak = 17.761029411764707e3 # 0.008097165991902834 ns?"
   ]
  },
  {
   "cell_type": "code",
   "execution_count": null,
   "id": "0836e977-2381-4e92-93b3-6109049a917e",
   "metadata": {
    "tags": []
   },
   "outputs": [],
   "source": [
    "# https://physics.nist.gov/cgi-bin/ASD/ie.pl?spectra=Ar&units=1&at_num_out=on&el_name_out=on&seq_out=on&shells_out=on&level_out=on&e_out=0&unc_out=on&biblio=on\n",
    "Xe_ionization_energies_eV = np.array([0, 12.1298437, 20.975, 31.05, 42.20 , 54.1, 66.703, 91.6, 105.9778, 179.84, 202.0, 229.02])\n",
    "Xe_J_ground_level = np.array([0, 3/2, 2, 3/2, 0, 1/2, 0, 1/2, 0, 5/2, 4, 9/2])\n",
    "Xe_ionization_degeneracies = 2*Xe_J_ground_level + 1\n",
    "\n",
    "# https://physics.nist.gov/cgi-bin/ASD/ie.pl?spectra=Ar&units=1&at_num_out=on&el_name_out=on&seq_out=on&shells_out=on&level_out=on&e_out=0&unc_out=on&biblio=on\n",
    "Ar_ionization_energies_eV = np.array([0, 15.7596119, 27.62967, 40.735, 59.58, 74.84, 91.290])\n",
    "Ar_J_ground_level = np.array([0, 3/2, 2, 3/2, 0, 1/2, 0])\n",
    "Ar_ionization_degeneracies = 2*Ar_J_ground_level + 1\n",
    "\n",
    "# https://physics.nist.gov/cgi-bin/ASD/ie.pl?spectra=He&units=1&at_num_out=on&el_name_out=on&seq_out=on&shells_out=on&level_out=on&e_out=0&unc_out=on&biblio=on\n",
    "He_ionization_energies_eV = np.array([0, 24.587389011, 54.4177655282])\n",
    "He_J_ground_level = np.array([0, 1/2, 0 ])\n",
    "He_ionization_degeneracies = 2*He_J_ground_level + 1\n"
   ]
  },
  {
   "cell_type": "markdown",
   "id": "9fd0b1a6-3243-4912-8791-0056894ca5eb",
   "metadata": {
    "tags": []
   },
   "source": [
    "### Single Test"
   ]
  },
  {
   "cell_type": "code",
   "execution_count": null,
   "id": "7e94a200-0aee-424b-93c0-cb6dcc58d2e2",
   "metadata": {
    "tags": []
   },
   "outputs": [],
   "source": [
    "# Input: Number of ionizations\n",
    "Z = 54\n",
    "N_ions = 1  # Number of ions, so N_ions + 1 = number of nuclear types\n",
    "nn_invcc = Xe_nn_invcc  # 1/cc\n",
    "T_K = 16.5e3 # Kelvin\n",
    "\n",
    "# Ionization energies for Xenon (in atomic units)\n",
    "ionizationenergies_eV = Xe_ionization_energies_eV # up to sixth ionization\n",
    "ionizationenergies_AU = ionizationenergies_eV * eV_to_AU\n",
    "\n",
    "# Degeneracy numbers for Xenon ionization states\n",
    "degeneracies = Xe_ionization_degeneracies\n",
    "print(\"g_i statistical weights are: \", degeneracies)\n",
    "\n",
    "nn_AU = nn_invcc * invcc_to_AU\n",
    "T_AU = T_K * K_to_AU\n",
    "\n",
    "# Calculate ionization fractions\n",
    "iters = np.array([0])\n",
    "verbose = True\n",
    "av_ionization, ionization_fractions, χ_energies = calculate_ionization_fractions(N_ions, nn_AU, T_AU, IPD=False)\n",
    "\n",
    "# Print the results\n",
    "for i, fraction in enumerate(ionization_fractions):\n",
    "    print(f\"Ionization state {i}: {fraction:.2e}\")\n",
    "print(f\"Average ionization Zbar = {av_ionization:.3e}\")\n",
    "get_Zp(ionization_fractions), ionization_fractions"
   ]
  },
  {
   "cell_type": "markdown",
   "id": "b68bacd9-a1bd-4e61-b3fd-3c6a6f4a158a",
   "metadata": {
    "tags": []
   },
   "source": [
    "### Xenon"
   ]
  },
  {
   "cell_type": "code",
   "execution_count": null,
   "id": "262ef8b2-45f2-4351-815f-b9482e9c844f",
   "metadata": {
    "scrolled": true,
    "tags": []
   },
   "outputs": [],
   "source": [
    "Z = 54\n",
    "nn_invcc = Xe_nn_invcc  # 1/cc\n",
    "\n",
    "# Ionization energies for Xenon (in atomic units)\n",
    "ionizationenergies_eV = Xe_ionization_energies_eV  # NIST\n",
    "ionizationenergies_AU = ionizationenergies_eV * eV_to_AU\n",
    "\n",
    "# Degeneracy numbers for Xenon ionization states\n",
    "degeneracies = Xe_ionization_degeneracies  # Considering Hund's rule. Not counting any states with anti-parallel spins.\n",
    "\n",
    "def get_saha_over_TK(T_K_array, N_ions, verbose=False, IPD=True):\n",
    "    ionization_fraction_lists = []\n",
    "    av_ionizations_list = []\n",
    "    χ_list = []\n",
    "\n",
    "    for T_K in T_K_array:\n",
    "        T_AU = T_K*K_to_AU\n",
    "        verbose = False\n",
    "        av_ionization, ionization_fractions, χ_energies = calculate_ionization_fractions(N_ions, nn_AU, T_AU, IPD=IPD)\n",
    "        if verbose:\n",
    "            print(f\"\\t\", [f\"{frac:0.3e}\".format(frac) for frac in ionization_fractions])\n",
    "        av_ionizations_list.append(av_ionization)\n",
    "        ionization_fraction_lists.append(ionization_fractions)\n",
    "        χ_list.append(χ_energies)\n",
    "        if verbose:\n",
    "            print(f\"\\tSaha Zbar = {av_ionization:0.3e}\")\n",
    "    \n",
    "    return np.array(av_ionizations_list), np.array(ionization_fraction_lists), np.array(χ_list)\n",
    "\n",
    "T_K_array = np.geomspace(1e2, 1e5, num=100)\n",
    "\n",
    "Zbar_N1_ipd_list, xi_N1_ipd_list, χ_N1_ipd_list = get_saha_over_TK(T_K_array, 1, IPD=True)\n",
    "Zbar_N1_noipd_list, xi_N1_noipd_list, χ_N1_noipd_list = get_saha_over_TK(T_K_array, 1, IPD=False)\n",
    "\n",
    "Zbar_NN_ipd_list, xi_NN_ipd_list, χ_NN_ipd_list = get_saha_over_TK(T_K_array, 5, IPD=True)\n",
    "Zbar_NN_noipd_list, xi_NN_noipd_list, χ_NN_noipd_list = get_saha_over_TK(T_K_array, 5, IPD=False)"
   ]
  },
  {
   "cell_type": "code",
   "execution_count": null,
   "id": "a9203c14-593d-4344-84ee-c570aa57f0b9",
   "metadata": {
    "tags": []
   },
   "outputs": [],
   "source": [
    "ofaa_data = read_csv(\"Xenon_5bar_OFAA.dat\", delim_whitespace=True, header=0)\n",
    "ofaa_min_valid_index = 3\n",
    "ofaa_data[ofaa_min_valid_index:]"
   ]
  },
  {
   "cell_type": "code",
   "execution_count": null,
   "id": "bac533c1-662f-4301-b133-9a59aa75fec5",
   "metadata": {
    "tags": []
   },
   "outputs": [],
   "source": [
    "fig, axs = plt.subplots(1,2, figsize=(10,4))\n",
    "\n",
    "plt.rcParams.update({'font.size': 10})\n",
    "plt.rcParams[\"figure.figsize\"] = (6,4)\n",
    "plt.rcParams[\"figure.dpi\"] = 200\n",
    "plt.rcParams['xtick.labelsize']=10\n",
    "\n",
    "linestyle = '-'\n",
    "for ax in axs:\n",
    "    ax.plot(T_K_array, Zbar_N1_ipd_list, color=color_cycle[0], linestyle=linestyle, label=r\"Single ionization $\\chi = \\chi_0 + \\Delta \\chi_{SP}$ \")\n",
    "    ax.plot(T_K_array, Zbar_N1_noipd_list, color=color_cycle[0], linestyle='--', label=r\"Single-ionization $\\chi = \\chi_0$ \")\n",
    "    ax.plot(T_K_array, Zbar_NN_ipd_list, color=color_cycle[1], linestyle=linestyle, label=r\"N-ionization $\\chi = \\chi_0 + \\Delta \\chi_{SP}$ \")\n",
    "    ax.plot(T_K_array, Zbar_NN_noipd_list, color=color_cycle[1], linestyle='--', label=r\"N-ionization $\\chi = \\chi_0$ \")\n",
    "\n",
    "    ax.plot(ofaa_data['T[K]'][ofaa_min_valid_index:], ofaa_data['Zbar'][ofaa_min_valid_index:], color=color_cycle[2], linestyle=linestyle, label=\"OFAA\")\n",
    "\n",
    "    ax.plot(T_K_array, More_TF_Zbar(Z, nn_invcc*invcc_to_AU, T_K_array*K_to_AU),linestyle=linestyle, color=color_cycle[3], label=\"More TF fit\")\n",
    "    \n",
    "    ax.set_xscale('log')\n",
    "\n",
    "    ax.set_ylabel(r\"$\\langle Z \\rangle$\")\n",
    "    ax.set_xlabel(r\"$T$ [K]\")\n",
    "\n",
    "    # text\n",
    "    props = dict(boxstyle='round', facecolor='white', alpha=0.5)\n",
    "    inset_text = f\"Xe at n = {nn_invcc:0.2e} [1/cc]\"\n",
    "    ax.text(0.05, 0.95, inset_text, transform=ax.transAxes,\n",
    "            verticalalignment='top', bbox=props)\n",
    "\n",
    "    ax.axvline(Xe_TK_peak,linestyle='-', color='k', label=f'T={Xe_TK_peak:0.3f} [kK]', alpha=0.5)\n",
    "    plt.grid(visible=None, which='both', axis='both', alpha=0.2)\n",
    "\n",
    "Xe_peak_Zbar = get_saha_over_TK(np.array([Xe_TK_peak]), 5, IPD=True)[0][0]\n",
    "\n",
    "fig.suptitle(f\"Peak T_e = {Xe_TK_peak/1e3:0.2f} [kK], Zbar = {Xe_peak_Zbar:0.2e}, n_e = {Xe_peak_Zbar*Xe_nn_invcc:0.3e} [1/cc]\")\n",
    "\n",
    "ax=axs[0]\n",
    "ax.set_xlim(1e3, 1e5)\n",
    "ax.set_ylim(0,2)\n",
    "ax.legend(loc='center left', fontsize=8)\n",
    "\n",
    "ax=axs[1]\n",
    "ax.set_xlim(5e3, 2e4)\n",
    "ax.set_ylim(1e-4,2)\n",
    "ax.set_yscale('log')\n",
    "ax.legend(loc='lower left', fontsize=8)\n",
    "\n",
    "\n",
    "plt.tight_layout()"
   ]
  },
  {
   "cell_type": "markdown",
   "id": "f8d119d8-36da-4a3d-abe4-d8ecb227716c",
   "metadata": {
    "tags": []
   },
   "source": [
    "### Helium"
   ]
  },
  {
   "cell_type": "code",
   "execution_count": null,
   "id": "5006ac5a-86f2-412c-9d71-4928b000c40c",
   "metadata": {
    "tags": []
   },
   "outputs": [],
   "source": [
    "Z, A = 2, 4\n",
    "nn_invcc = He_nn_invcc # 1/cc\n",
    "\n",
    "# Ionization energies for Xenon (in atomic units)\n",
    "ionizationenergies_eV = He_ionization_energies_eV  # NIST\n",
    "ionizationenergies_AU = ionizationenergies_eV * eV_to_AU\n",
    "\n",
    "# Degeneracy numbers for Xenon ionization states\n",
    "degeneracies = He_ionization_degeneracies  # Considering Hund's rule. Not counting any states with anti-parallel spins.\n",
    "\n",
    "\n",
    "def get_saha_over_TK(T_K_array, N_ions, verbose=False, IPD=True):\n",
    "    ionization_fraction_lists = []\n",
    "    av_ionizations_list = []\n",
    "    χ_list = []\n",
    "\n",
    "    for T_K in T_K_array:\n",
    "        T_AU = T_K*K_to_AU\n",
    "        if verbose:\n",
    "            print(f\"More initial Zbar guess: {More_Zbar:0.3e}\")\n",
    "        verbose = False\n",
    "        av_ionization, ionization_fractions, χ_energies = calculate_ionization_fractions(N_ions, nn_AU, T_AU,IPD=IPD)\n",
    "        if verbose:\n",
    "            print(f\"\\t\", [f\"{frac:0.3e}\".format(frac) for frac in ionization_fractions])\n",
    "        av_ionizations_list.append(av_ionization)\n",
    "        ionization_fraction_lists.append(ionization_fractions)\n",
    "        χ_list.append(χ_energies)\n",
    "        if verbose:\n",
    "            print(f\"\\tSaha Zbar = {av_ionization:0.3e}\")\n",
    "    \n",
    "    return np.array(av_ionizations_list), np.array(ionization_fraction_lists), np.array(χ_list)\n",
    "\n",
    "T_K_array = np.geomspace(1e2, 1e5, num=100)\n",
    "\n",
    "Zbar_N1_ipd_list, xi_N1_ipd_list, χ_N1_ipd_list = get_saha_over_TK(T_K_array, 1, IPD=True)\n",
    "Zbar_N1_noipd_list, xi_N1_noipd_list, χ_N1_noipd_list = get_saha_over_TK(T_K_array, 1, IPD=False)\n",
    "\n",
    "Zbar_NN_ipd_list, xi_NN_ipd_list, χ_NN_ipd_list = get_saha_over_TK(T_K_array, 2, IPD=True)\n",
    "Zbar_NN_noipd_list, xi_NN_noipd_list, χ_NN_noipd_list = get_saha_over_TK(T_K_array, 2, IPD=False)"
   ]
  },
  {
   "cell_type": "code",
   "execution_count": null,
   "id": "066db712-abcb-48d1-ae7a-f8dc29fe6898",
   "metadata": {
    "tags": []
   },
   "outputs": [],
   "source": [
    "fig, axs = plt.subplots(1,2, figsize=(10,4))\n",
    "\n",
    "plt.rcParams.update({'font.size': 10})\n",
    "plt.rcParams[\"figure.figsize\"] = (6,4)\n",
    "plt.rcParams[\"figure.dpi\"] = 200\n",
    "plt.rcParams['xtick.labelsize']=10\n",
    "\n",
    "linestyle = '-'\n",
    "for ax in axs:\n",
    "    ax.plot(T_K_array, Zbar_N1_ipd_list, color=color_cycle[0], linestyle=linestyle, label=r\"Single ionization $\\chi = \\chi_0 + \\Delta \\chi_{SP}$ \")\n",
    "    ax.plot(T_K_array, Zbar_N1_noipd_list, color=color_cycle[0], linestyle='--', label=r\"Single-ionization $\\chi = \\chi_0$ \")\n",
    "    ax.plot(T_K_array, Zbar_NN_ipd_list, color=color_cycle[1], linestyle=linestyle, label=r\"N-ionization $\\chi = \\chi_0 + \\Delta \\chi_{SP}$ \")\n",
    "    ax.plot(T_K_array, Zbar_NN_noipd_list, color=color_cycle[1], linestyle='--', label=r\"N-ionization $\\chi = \\chi_0$ \")\n",
    "\n",
    "    ax.plot(More_TF_Zbar(Z, nn_invcc*invcc_to_AU, T_K_array*K_to_AU),linestyle=linestyle, color=color_cycle[3], label=\"More TF fit\")\n",
    "    \n",
    "    \n",
    "    ax.set_xscale('log')\n",
    "\n",
    "    ax.set_ylabel(r\"$\\langle Z \\rangle$\")\n",
    "    ax.set_xlabel(r\"$T$ [K]\")\n",
    "\n",
    "    # text\n",
    "    props = dict(boxstyle='round', facecolor='white', alpha=0.5)\n",
    "    inset_text = f\"He at n = {nn_invcc:0.2e} [1/cc]\"\n",
    "    ax.text(0.05, 0.95, inset_text, transform=ax.transAxes,\n",
    "            verticalalignment='top', bbox=props)\n",
    "\n",
    "    ax.axvline(He_TK_peak,linestyle='-', color='k', label=f'T={He_TK_peak:0.3f} [kK]', alpha=0.5)\n",
    "    plt.grid(visible=None, which='both', axis='both', alpha=0.2)\n",
    "\n",
    "He_peak_Zbar = get_saha_over_TK(np.array([He_TK_peak]), 2, IPD=True)[0][0]\n",
    "fig.suptitle(f\"Peak T_e = {He_TK_peak/1e3:0.2f} [kK], Zbar = {He_peak_Zbar:0.2e}, n_e = {He_peak_Zbar*He_nn_invcc:0.3e} [1/cc]\")\n",
    "\n",
    "ax=axs[0]\n",
    "ax.set_xlim(1e3, 1e5)\n",
    "ax.set_ylim(0,2)\n",
    "ax.legend(loc='center left', fontsize=8)\n",
    "\n",
    "ax=axs[1]\n",
    "ax.set_xlim(5e3, 2e4)\n",
    "ax.set_ylim(1e-4,2)\n",
    "ax.set_yscale('log')\n",
    "ax.legend(loc='lower left', fontsize=8)\n",
    "\n",
    "\n",
    "plt.tight_layout()"
   ]
  },
  {
   "cell_type": "markdown",
   "id": "609a24f7-9a0e-4c3f-ac93-bfef98ead489",
   "metadata": {
    "tags": []
   },
   "source": [
    "### Argon"
   ]
  },
  {
   "cell_type": "code",
   "execution_count": null,
   "id": "7bfd7fd0-f9bd-44cf-8c49-03b61ebffc33",
   "metadata": {
    "tags": []
   },
   "outputs": [],
   "source": [
    "Z, A = 18, 39.948\n",
    "nn_invcc = Ar_nn_invcc # 1/cc\n",
    "\n",
    "# Ionization energies for Xenon (in atomic units)\n",
    "ionizationenergies_eV = Ar_ionization_energies_eV # NIST\n",
    "ionizationenergies_AU = ionizationenergies_eV * eV_to_AU\n",
    "\n",
    "# Degeneracy numbers for Xenon ionization states\n",
    "degeneracies = Ar_ionization_degeneracies  # Considering Hund's rule. Not counting any states with anti-parallel spins.\n",
    "\n",
    "\n",
    "def get_saha_over_TK(T_K_array, N_ions, verbose=False, IPD=True):\n",
    "    ionization_fraction_lists = []\n",
    "    av_ionizations_list = []\n",
    "    χ_list = []\n",
    "\n",
    "    for T_K in T_K_array:\n",
    "        T_AU = T_K*K_to_AU\n",
    "        if verbose:\n",
    "            print(f\"More initial Zbar guess: {More_Zbar:0.3e}\")\n",
    "        verbose = False\n",
    "        av_ionization, ionization_fractions, χ_energies = calculate_ionization_fractions(N_ions, nn_AU, T_AU,IPD=IPD)\n",
    "        if verbose:\n",
    "            print(f\"\\t\", [f\"{frac:0.3e}\".format(frac) for frac in ionization_fractions])\n",
    "        av_ionizations_list.append(av_ionization)\n",
    "        ionization_fraction_lists.append(ionization_fractions)\n",
    "        χ_list.append(χ_energies)\n",
    "        if verbose:\n",
    "            print(f\"\\tSaha Zbar = {av_ionization:0.3e}\")\n",
    "    \n",
    "    return np.array(av_ionizations_list), np.array(ionization_fraction_lists), np.array(χ_list)\n",
    "\n",
    "T_K_array = np.geomspace(1e2, 1e5, num=100)\n",
    "\n",
    "Zbar_N1_ipd_list, xi_N1_ipd_list, χ_N1_ipd_list = get_saha_over_TK(T_K_array, 1, IPD=True)\n",
    "Zbar_N1_noipd_list, xi_N1_noipd_list, χ_N1_noipd_list = get_saha_over_TK(T_K_array, 1, IPD=False)\n",
    "\n",
    "Zbar_NN_ipd_list, xi_NN_ipd_list, χ_NN_ipd_list = get_saha_over_TK(T_K_array, 5, IPD=True)\n",
    "Zbar_NN_noipd_list, xi_NN_noipd_list, χ_NN_noipd_list = get_saha_over_TK(T_K_array, 5, IPD=False)"
   ]
  },
  {
   "cell_type": "code",
   "execution_count": null,
   "id": "f72f1335-f32e-4af5-8f41-3be8d9d3a27e",
   "metadata": {
    "tags": []
   },
   "outputs": [],
   "source": [
    "fig, axs = plt.subplots(1,2, figsize=(10,4))\n",
    "\n",
    "plt.rcParams.update({'font.size': 10})\n",
    "plt.rcParams[\"figure.figsize\"] = (6,4)\n",
    "plt.rcParams[\"figure.dpi\"] = 200\n",
    "plt.rcParams['xtick.labelsize']=10\n",
    "\n",
    "linestyle = '-'\n",
    "for ax in axs:\n",
    "    ax.plot(T_K_array, Zbar_N1_ipd_list, color=color_cycle[0], linestyle=linestyle, label=r\"Single ionization $\\chi = \\chi_0 + \\Delta \\chi_{SP}$ \")\n",
    "    ax.plot(T_K_array, Zbar_N1_noipd_list, color=color_cycle[0], linestyle='--', label=r\"Single-ionization $\\chi = \\chi_0$ \")\n",
    "    ax.plot(T_K_array, Zbar_NN_ipd_list, color=color_cycle[1], linestyle=linestyle, label=r\"N-ionization $\\chi = \\chi_0 + \\Delta \\chi_{SP}$ \")\n",
    "    ax.plot(T_K_array, Zbar_NN_noipd_list, color=color_cycle[1], linestyle='--', label=r\"N-ionization $\\chi = \\chi_0$ \")\n",
    "\n",
    "    ax.plot(T_K_array, More_TF_Zbar(Z, nn_invcc*invcc_to_AU, T_K_array*K_to_AU),linestyle=linestyle, color=color_cycle[3], label=\"More TF fit\")\n",
    "    ax.set_xscale('log')\n",
    "\n",
    "    ax.set_ylabel(r\"$\\langle Z \\rangle$\")\n",
    "    ax.set_xlabel(r\"$T$ [K]\")\n",
    "\n",
    "    # text\n",
    "    props = dict(boxstyle='round', facecolor='white', alpha=0.5)\n",
    "    inset_text = f\"Ar at n = {nn_invcc:0.2e} [1/cc]\"\n",
    "    ax.text(0.05, 0.95, inset_text, transform=ax.transAxes,\n",
    "            verticalalignment='top', bbox=props)\n",
    "\n",
    "    ax.axvline(Ar_TK_peak,linestyle='-', color='k', label=f'T={Ar_TK_peak:0.3f} [kK]', alpha=0.5)\n",
    "    plt.grid(visible=None, which='both', axis='both', alpha=0.2)\n",
    "\n",
    "Ar_peak_Zbar = get_saha_over_TK(np.array([Ar_TK_peak]), 5, IPD=True)[0][0]\n",
    "fig.suptitle(f\"Peak T_e = {Ar_TK_peak/1e3:0.2f} [kK], Zbar = {Ar_peak_Zbar:0.2e}, n_e = {Ar_peak_Zbar*Ar_nn_invcc:0.3e} [1/cc]\")\n",
    "\n",
    "ax=axs[0]\n",
    "ax.set_xlim(1e3, 1e5)\n",
    "ax.set_ylim(0,2)\n",
    "ax.legend(loc='center left', fontsize=8)\n",
    "\n",
    "ax=axs[1]\n",
    "ax.set_xlim(5e3, 2e4)\n",
    "ax.set_ylim(1e-4,2)\n",
    "ax.set_yscale('log')\n",
    "ax.legend(loc='lower left', fontsize=8)\n",
    "\n",
    "\n",
    "plt.tight_layout()"
   ]
  },
  {
   "cell_type": "code",
   "execution_count": null,
   "id": "16d9e512-6927-49a6-a021-9db23b8ec7fb",
   "metadata": {},
   "outputs": [],
   "source": []
  },
  {
   "cell_type": "code",
   "execution_count": null,
   "id": "bc97b97c-a110-4224-a4c8-270429897d0a",
   "metadata": {},
   "outputs": [],
   "source": []
  }
 ],
 "metadata": {
  "kernelspec": {
   "display_name": "Python 3 (ipykernel)",
   "language": "python",
   "name": "python3"
  },
  "language_info": {
   "codemirror_mode": {
    "name": "ipython",
    "version": 3
   },
   "file_extension": ".py",
   "mimetype": "text/x-python",
   "name": "python",
   "nbconvert_exporter": "python",
   "pygments_lexer": "ipython3",
   "version": "3.10.6"
  }
 },
 "nbformat": 4,
 "nbformat_minor": 5
}
