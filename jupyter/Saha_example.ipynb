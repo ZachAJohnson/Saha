{
 "cells": [
  {
   "cell_type": "markdown",
   "id": "6aec3e62-fed1-4962-808c-8fb41767709a",
   "metadata": {},
   "source": [
    "### Saha for N Ionization\n",
    "\n",
    "The ionization energies are obtained from [NIST](https://physics.nist.gov/cgi-bin/ASD/ie.pl?spectra=Xe&units=1&at_num_out=on&el_name_out=on&seq_out=on&shells_out=on&level_out=on&e_out=0&unc_out=on&biblio=on)\n",
    "\n",
    "The statistical weights are approximately derived also with NIST, using g_i = 2 J_i + 1 of the ground level of that state\n"
   ]
  },
  {
   "cell_type": "code",
   "execution_count": 1,
   "id": "890d43b0-6772-45c5-9925-0e775ec44197",
   "metadata": {
    "tags": []
   },
   "outputs": [
    {
     "name": "stdout",
     "output_type": "stream",
     "text": [
      "ModuleNotFoundError: No module named 'mendeleev'\n"
     ]
    }
   ],
   "source": [
    "import numpy as np\n",
    "from hnc.hnc.constants import *\n",
    "\n",
    "from saha.core.saha import plasma, calculate_ionization_fractions\n",
    "\n",
    "from saha.core.table_generator import saha_table\n",
    "\n",
    "import matplotlib.pyplot as plt\n",
    "\n",
    "plt.rcParams.update({'font.size': 14})\n",
    "plt.rcParams[\"figure.figsize\"] = (6,4)\n",
    "plt.rcParams[\"figure.dpi\"] = 200\n",
    "plt.rcParams['xtick.labelsize']=14\n",
    "\n",
    "color_smooth = lambda N: plt.cm.viridis(np.linspace(0,1,N))\n",
    "color_cycle = plt.rcParams['axes.prop_cycle'].by_key()['color']\n"
   ]
  },
  {
   "cell_type": "code",
   "execution_count": 2,
   "id": "a9cb2c4f-6710-43d4-be07-282f57b2d21d",
   "metadata": {
    "tags": []
   },
   "outputs": [
    {
     "name": "stdout",
     "output_type": "stream",
     "text": [
      "Ar25bar_weak-coupling_Δχ\n"
     ]
    }
   ],
   "source": [
    "# Zach Johnson 6/27/24\n",
    "# Xenon 5 bar experiment from UCLA\n",
    "\n",
    "nn_invcc_at_Pbar_TK = lambda Pbar, TK: Pbar*bar_to_AU/(TK*K_to_AU)*AU_to_invcc\n",
    "\n",
    "Ar_nn_invcc = nn_invcc_at_Pbar_TK(25, 290)\n",
    "Ar_TK_peak = 17.761029411764707e3 # 0.008097165991902834 ns?\n",
    "\n",
    "# https://physics.nist.gov/cgi-bin/ASD/ie.pl?spectra=Ar&units=1&at_num_out=on&el_name_out=on&seq_out=on&shells_out=on&level_out=on&e_out=0&unc_out=on&biblio=on\n",
    "Ar_ionization_energies_AU = np.array([0, 15.7596119, 27.62967, 40.735, 59.58, 74.84, 91.290])*eV_to_AU\n",
    "Ar_J_ground_level = np.array([0, 3/2, 2, 3/2, 0, 1/2, 0])\n",
    "Ar_ionization_degeneracies = 2*Ar_J_ground_level + 1\n",
    "# Ar_ionization_degeneracies = np.array([1, 5.63, 9.03])\n",
    "\n",
    "# Input: Number of ionizations\n",
    "Z = 18\n",
    "Ar25bar_plasma = plasma(\"Ar25bar_weak-coupling_Δχ\", Z, Ar_ionization_energies_AU, Ar_ionization_degeneracies)\n",
    "\n",
    "# Temperature density\n",
    "Zbar_guess = 0.1\n",
    "nn_invcc = 1e20 / Zbar_guess\n",
    "nn_AU = nn_invcc  * invcc_to_AU\n",
    "\n",
    "ne_invcc_from_Zbar = lambda Zbar: nn_invcc*Zbar\n",
    "\n",
    "T_AU  = 2*eV_to_AU\n",
    "print(Ar25bar_plasma.name)\n",
    "# Calculate ionization fractions\n",
    "\n"
   ]
  },
  {
   "cell_type": "code",
   "execution_count": 13,
   "id": "f4d40d18-9906-4712-a4b1-ac7950ddf882",
   "metadata": {
    "tags": []
   },
   "outputs": [
    {
     "data": {
      "text/plain": [
       "(array([9.60412773e-01, 3.95868596e-02, 3.67104367e-07]),\n",
       " 7.415481916604521e+19)"
      ]
     },
     "execution_count": 13,
     "metadata": {},
     "output_type": "execute_result"
    }
   ],
   "source": [
    "Zbar, xi_array, χ_array = calculate_ionization_fractions(Ar25bar_plasma, Ar_nn_invcc*invcc_to_AU, Ar_TK_peak*K_to_AU, IPD=True, N_ions=2)\n",
    "xi_array, Zbar*Ar_nn_invcc"
   ]
  },
  {
   "cell_type": "code",
   "execution_count": 4,
   "id": "f45894b4-0ef7-45e2-8657-293a7d890297",
   "metadata": {
    "tags": []
   },
   "outputs": [
    {
     "name": "stderr",
     "output_type": "stream",
     "text": [
      "/home/zach/plasma/saha/core/saha.py:47: RuntimeWarning: invalid value encountered in divide\n",
      "  Γj = Zj*Zp/(rj*Ti)\n"
     ]
    },
    {
     "data": {
      "text/plain": [
       " message: Solution found.\n",
       " success: True\n",
       "  status: 0\n",
       "     fun: 80640327680.0\n",
       "       x: 3.223534598552112e+20\n",
       "     nit: 27\n",
       "    nfev: 27"
      ]
     },
     "execution_count": 4,
     "metadata": {},
     "output_type": "execute_result"
    }
   ],
   "source": [
    "from scipy.optimize import minimize_scalar\n",
    "\n",
    "def ne_from_nn(nn_invcc):\n",
    "    nn_AU = nn_invcc*invcc_to_AU\n",
    "    Zbar, xi_array, χ_array = calculate_ionization_fractions(Ar25bar_plasma, nn_AU, T_AU, IPD=True, N_ions=2)\n",
    "    return nn_invcc * Zbar\n",
    "\n",
    "def f_to_min(nn_invcc):\n",
    "    return np.abs(1e20 - ne_from_nn(nn_invcc))\n",
    "    \n",
    "Fontes_sol = minimize_scalar(f_to_min, bounds=(1e19, 1e21))\n",
    "Fontes_sol"
   ]
  },
  {
   "cell_type": "code",
   "execution_count": 5,
   "id": "f3007936-3ad6-4898-b369-862d53de70d1",
   "metadata": {
    "tags": []
   },
   "outputs": [
    {
     "data": {
      "text/plain": [
       "(3.223534598552112e+20,\n",
       " (0.45677390028962345,\n",
       "  array([5.43661018e-01, 4.55904065e-01, 4.34916909e-04, 5.01872028e-10,\n",
       "         1.89286954e-20, 3.52388870e-33]),\n",
       "  array([0.        , 0.55022119, 0.96296671, 1.42388781, 2.09753681,\n",
       "         2.64073922])))"
      ]
     },
     "execution_count": 5,
     "metadata": {},
     "output_type": "execute_result"
    }
   ],
   "source": [
    "Fontes_sol.x, calculate_ionization_fractions(Ar25bar_plasma, 1e20*invcc_to_AU, T_AU, IPD=True, N_ions=5)"
   ]
  },
  {
   "cell_type": "code",
   "execution_count": 6,
   "id": "65c0deb7-0cfe-41cf-9098-f1429cb6921a",
   "metadata": {
    "tags": []
   },
   "outputs": [
    {
     "data": {
      "text/plain": [
       "(0.18737697844573276,\n",
       " array([0.84785222, 0.11691858, 0.0352292 ]),\n",
       " array([0.        , 0.57915511, 1.01537173]))"
      ]
     },
     "execution_count": 6,
     "metadata": {},
     "output_type": "execute_result"
    }
   ],
   "source": [
    "calculate_ionization_fractions(Ar25bar_plasma, 1e21*invcc_to_AU, T_AU, IPD=False, N_ions=2)"
   ]
  },
  {
   "cell_type": "code",
   "execution_count": 7,
   "id": "98414373-74b5-4e49-84ec-27bfa3e70dd4",
   "metadata": {
    "tags": []
   },
   "outputs": [
    {
     "data": {
      "text/plain": [
       "0.002645145911936588"
      ]
     },
     "execution_count": 7,
     "metadata": {},
     "output_type": "execute_result"
    }
   ],
   "source": [
    "np.exp(-Ar_ionization_energies_AU / T_AU)[2]/np.exp(-Ar_ionization_energies_AU / T_AU)[1]"
   ]
  },
  {
   "cell_type": "code",
   "execution_count": null,
   "id": "8e25c86f-2145-45b9-9a14-7698e7347f6e",
   "metadata": {},
   "outputs": [],
   "source": []
  }
 ],
 "metadata": {
  "kernelspec": {
   "display_name": "Python 3 (ipykernel)",
   "language": "python",
   "name": "python3"
  },
  "language_info": {
   "codemirror_mode": {
    "name": "ipython",
    "version": 3
   },
   "file_extension": ".py",
   "mimetype": "text/x-python",
   "name": "python",
   "nbconvert_exporter": "python",
   "pygments_lexer": "ipython3",
   "version": "3.10.6"
  }
 },
 "nbformat": 4,
 "nbformat_minor": 5
}
